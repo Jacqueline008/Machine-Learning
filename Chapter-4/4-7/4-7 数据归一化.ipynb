{
 "cells": [
  {
   "cell_type": "markdown",
   "metadata": {},
   "source": [
    "### 数据归一化处理"
   ]
  },
  {
   "cell_type": "code",
   "execution_count": 1,
   "metadata": {},
   "outputs": [],
   "source": [
    "import numpy as np\n",
    "import matplotlib.pyplot as plt"
   ]
  },
  {
   "cell_type": "markdown",
   "metadata": {},
   "source": [
    "### 最值归一化 normalization"
   ]
  },
  {
   "cell_type": "code",
   "execution_count": 3,
   "metadata": {},
   "outputs": [
    {
     "data": {
      "text/plain": [
       "array([55, 22, 95, 48, 32, 84, 33, 30, 15, 40, 28, 65, 57,  7, 30, 51, 74,\n",
       "       19, 41,  7, 30,  5, 11, 80, 18, 21, 47, 50, 67, 90,  5, 27, 13, 38,\n",
       "        3, 64, 96,  9, 23, 47, 11, 69, 59, 85, 99, 36, 18, 61, 46, 36, 72,\n",
       "        2, 68, 87, 68, 93, 70,  2, 57, 35, 92, 89, 82, 45, 25, 55, 55, 53,\n",
       "       21, 82, 79, 52, 65, 19, 95, 16, 77, 84,  4, 96, 19, 90, 73, 65, 81,\n",
       "       89, 96, 70, 90, 97, 85, 21, 40, 11, 84, 83, 92, 52, 85, 48])"
      ]
     },
     "execution_count": 3,
     "metadata": {},
     "output_type": "execute_result"
    }
   ],
   "source": [
    "x = np.random.randint(0, 100, size=100)\n",
    "x"
   ]
  },
  {
   "cell_type": "code",
   "execution_count": 6,
   "metadata": {
    "scrolled": true
   },
   "outputs": [
    {
     "data": {
      "text/plain": [
       "array([0.54639175, 0.20618557, 0.95876289, 0.4742268 , 0.30927835,\n",
       "       0.84536082, 0.31958763, 0.28865979, 0.13402062, 0.39175258,\n",
       "       0.26804124, 0.64948454, 0.56701031, 0.05154639, 0.28865979,\n",
       "       0.50515464, 0.74226804, 0.17525773, 0.40206186, 0.05154639,\n",
       "       0.28865979, 0.03092784, 0.09278351, 0.80412371, 0.16494845,\n",
       "       0.19587629, 0.46391753, 0.49484536, 0.67010309, 0.90721649,\n",
       "       0.03092784, 0.25773196, 0.11340206, 0.37113402, 0.01030928,\n",
       "       0.63917526, 0.96907216, 0.07216495, 0.21649485, 0.46391753,\n",
       "       0.09278351, 0.69072165, 0.58762887, 0.8556701 , 1.        ,\n",
       "       0.35051546, 0.16494845, 0.60824742, 0.45360825, 0.35051546,\n",
       "       0.72164948, 0.        , 0.68041237, 0.87628866, 0.68041237,\n",
       "       0.93814433, 0.70103093, 0.        , 0.56701031, 0.34020619,\n",
       "       0.92783505, 0.89690722, 0.82474227, 0.44329897, 0.2371134 ,\n",
       "       0.54639175, 0.54639175, 0.5257732 , 0.19587629, 0.82474227,\n",
       "       0.79381443, 0.51546392, 0.64948454, 0.17525773, 0.95876289,\n",
       "       0.1443299 , 0.77319588, 0.84536082, 0.02061856, 0.96907216,\n",
       "       0.17525773, 0.90721649, 0.73195876, 0.64948454, 0.81443299,\n",
       "       0.89690722, 0.96907216, 0.70103093, 0.90721649, 0.97938144,\n",
       "       0.8556701 , 0.19587629, 0.39175258, 0.09278351, 0.84536082,\n",
       "       0.83505155, 0.92783505, 0.51546392, 0.8556701 , 0.4742268 ])"
      ]
     },
     "execution_count": 6,
     "metadata": {},
     "output_type": "execute_result"
    }
   ],
   "source": [
    "( x - np.min(x) ) / ( np.max(x) - np.min(x) )"
   ]
  },
  {
   "cell_type": "code",
   "execution_count": 10,
   "metadata": {},
   "outputs": [],
   "source": [
    "X = np.random.randint(0, 100, (50, 2))\n",
    "X = np.array(X, dtype=float)"
   ]
  },
  {
   "cell_type": "code",
   "execution_count": 13,
   "metadata": {},
   "outputs": [],
   "source": [
    "X[:, 0] = ( X[:, 0] - np.min(X[:, 0]) ) / ( np.max(X[:, 0]) - np.min(X[:, 0]) )\n",
    "X[:, 1] = ( X[:, 1] - np.min(X[:, 1]) ) / ( np.max(X[:, 1]) - np.min(X[:, 1]) )"
   ]
  },
  {
   "cell_type": "code",
   "execution_count": 15,
   "metadata": {
    "scrolled": true
   },
   "outputs": [
    {
     "data": {
      "image/png": "[encoded data removed]",
      "text/plain": [
       "<matplotlib.figure.Figure at 0x2310e62abe0>"
      ]
     },
     "metadata": {},
     "output_type": "display_data"
    }
   ],
   "source": [
    "plt.scatter(X[:, 0], X[:, 1])\n",
    "plt.show()"
   ]
  },
  {
   "cell_type": "code",
   "execution_count": 16,
   "metadata": {},
   "outputs": [
    {
     "data": {
      "text/plain": [
       "0.4969230769230769"
      ]
     },
     "execution_count": 16,
     "metadata": {},
     "output_type": "execute_result"
    }
   ],
   "source": [
    "np.mean(X[:, 0])"
   ]
  },
  {
   "cell_type": "code",
   "execution_count": 17,
   "metadata": {},
   "outputs": [
    {
     "data": {
      "text/plain": [
       "0.3055363241201297"
      ]
     },
     "execution_count": 17,
     "metadata": {},
     "output_type": "execute_result"
    }
   ],
   "source": [
    "np.std(X[:, 0])"
   ]
  },
  {
   "cell_type": "code",
   "execution_count": 18,
   "metadata": {},
   "outputs": [
    {
     "data": {
      "text/plain": [
       "0.49463917525773193"
      ]
     },
     "execution_count": 18,
     "metadata": {},
     "output_type": "execute_result"
    }
   ],
   "source": [
    "np.mean(X[:, 1])"
   ]
  },
  {
   "cell_type": "code",
   "execution_count": 19,
   "metadata": {},
   "outputs": [
    {
     "data": {
      "text/plain": [
       "0.29206744147700103"
      ]
     },
     "execution_count": 19,
     "metadata": {},
     "output_type": "execute_result"
    }
   ],
   "source": [
    "np.std(X[:, 1])"
   ]
  },
  {
   "cell_type": "markdown",
   "metadata": {},
   "source": [
    "### 均值方差归一化"
   ]
  },
  {
   "cell_type": "code",
   "execution_count": 20,
   "metadata": {},
   "outputs": [],
   "source": [
    "X2 = np.random.randint(0, 100, (50, 2))\n",
    "X2 = np.array(X2, dtype=float)"
   ]
  },
  {
   "cell_type": "code",
   "execution_count": 22,
   "metadata": {},
   "outputs": [],
   "source": [
    "X2[:, 0] = ( X2[:, 0] - np.mean(X2[:, 0]) ) / np.std(X2[:, 0])\n",
    "X2[:, 1] = ( X2[:, 1] - np.mean(X2[:, 1]) ) / np.std(X2[:, 1])"
   ]
  },
  {
   "cell_type": "code",
   "execution_count": 23,
   "metadata": {},
   "outputs": [
    {
     "data": {
      "image/png": "[encoded data removed]",
      "text/plain": [
       "<matplotlib.figure.Figure at 0x2310f64d2b0>"
      ]
     },
     "metadata": {},
     "output_type": "display_data"
    }
   ],
   "source": [
    "plt.scatter(X2[:, 0], X2[:, 1])\n",
    "plt.show()"
   ]
  },
  {
   "cell_type": "code",
   "execution_count": 24,
   "metadata": {},
   "outputs": [
    {
     "data": {
      "text/plain": [
       "-1.4654943925052067e-16"
      ]
     },
     "execution_count": 24,
     "metadata": {},
     "output_type": "execute_result"
    }
   ],
   "source": [
    "np.mean(X2[:, 0])"
   ]
  },
  {
   "cell_type": "code",
   "execution_count": 25,
   "metadata": {},
   "outputs": [
    {
     "data": {
      "text/plain": [
       "1.0"
      ]
     },
     "execution_count": 25,
     "metadata": {},
     "output_type": "execute_result"
    }
   ],
   "source": [
    "np.std(X2[:, 0])"
   ]
  },
  {
   "cell_type": "code",
   "execution_count": 26,
   "metadata": {},
   "outputs": [
    {
     "data": {
      "text/plain": [
       "6.661338147750939e-18"
      ]
     },
     "execution_count": 26,
     "metadata": {},
     "output_type": "execute_result"
    }
   ],
   "source": [
    "np.mean(X2[:, 1])"
   ]
  },
  {
   "cell_type": "code",
   "execution_count": 27,
   "metadata": {},
   "outputs": [
    {
     "data": {
      "text/plain": [
       "0.9999999999999999"
      ]
     },
     "execution_count": 27,
     "metadata": {},
     "output_type": "execute_result"
    }
   ],
   "source": [
    "np.std(X2[:, 1])"
   ]
  }
 ],
 "metadata": {
  "kernelspec": {
   "display_name": "Python 3",
   "language": "python",
   "name": "python3"
  },
  "language_info": {
   "codemirror_mode": {
    "name": "ipython",
    "version": 3
   },
   "file_extension": ".py",
   "mimetype": "text/x-python",
   "name": "python",
   "nbconvert_exporter": "python",
   "pygments_lexer": "ipython3",
   "version": "3.6.4"
  }
 },
 "nbformat": 4,
 "nbformat_minor": 2
}
